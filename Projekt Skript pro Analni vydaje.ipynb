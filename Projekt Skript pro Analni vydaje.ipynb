{
 "cells": [
  {
   "cell_type": "markdown",
   "metadata": {},
   "source": [
    "# Analni vydaje\n"
   ]
  },
  {
   "cell_type": "markdown",
   "metadata": {},
   "source": [
    "Zadani/specifikace\n",
    "\n",
    "1. šáhne do databáze a vytáhne všechny názvy klientů, jejich zkratky (jsou 1:1 k Toggl) a jejich plannery, plus jejich maily\n",
    "2. šáhne na Blob Storage a vytáhne všechny záznamy z Toggl po lidech, datumech, klientech a projektech\n",
    "3. napáruje Toggl časy lidí z analyt. týmu k jednotlivým klientům a plannerům\n",
    "4. udělá přehled toho, kolik za daný měsíc jsme spálili časy na daném klientovi\n",
    "5. pošle mail všem plannerům s přehlednými instrukcemi, kolik jsme strávili času na jeho klientech s tím, že by si měl pohlídat fakturaci"
   ]
  },
  {
   "cell_type": "markdown",
   "metadata": {},
   "source": [
    "Jak na to? \n",
    "V jakem jazyce - Python\n",
    "Kde?  tenhle jupiternotebook\n",
    "Kdo? Idealne 1 nebo dva lidi"
   ]
  },
  {
   "cell_type": "markdown",
   "metadata": {},
   "source": [
    "Dotazy?\n"
   ]
  },
  {
   "cell_type": "markdown",
   "metadata": {},
   "source": [
    "reseni pro version control na github - otestovat Jirka\n",
    "https://simpleanalytical.com/sharing-jupyter-notebook-github\n",
    "https://nextjournal.com/schmudde/how-to-version-control-jupyter"
   ]
  },
  {
   "cell_type": "code",
   "execution_count": null,
   "metadata": {},
   "outputs": [],
   "source": []
  }
 ],
 "metadata": {
  "kernelspec": {
   "display_name": "Python 3",
   "language": "python",
   "name": "python3"
  },
  "language_info": {
   "codemirror_mode": {
    "name": "ipython",
    "version": 3
   },
   "file_extension": ".py",
   "mimetype": "text/x-python",
   "name": "python",
   "nbconvert_exporter": "python",
   "pygments_lexer": "ipython3",
   "version": "3.6.9"
  }
 },
 "nbformat": 4,
 "nbformat_minor": 2
}


tadu dopisu nejakou blbost pro pull request
